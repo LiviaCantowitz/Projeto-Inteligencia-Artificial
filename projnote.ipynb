{
 "cells": [
  {
   "cell_type": "code",
   "execution_count": null,
   "id": "e127e36c",
   "metadata": {},
   "outputs": [],
   "source": [
    "\n",
    "#Livia Negrucci Cantowitz - RA: 10389419 - Email: 10389419@mackenzista.com.br\n",
    "#Classificação de Sentimento em Textos\n",
    "#Descrição: Análise exploratória e modelo de classificação\n",
    "\n",
    "\n",
    "import pandas as pd\n",
    "import matplotlib.pyplot as plt\n",
    "import seaborn as sns\n",
    "from sklearn.model_selection import train_test_split\n",
    "from sklearn.feature_extraction.text import TfidfVectorizer\n",
    "from sklearn.naive_bayes import MultinomialNB\n",
    "from sklearn.metrics import classification_report, confusion_matrix\n",
    "\n",
    "# 1. Carregar dataset\n",
    "# Exemplo: IMDb Small Dataset\n",
    "# Dataset precisa ter duas colunas: \"text\" e \"label\"\n",
    "# Simulação de dataset pequeno\n",
    "\n",
    "data = {\n",
    "    \"text\": [\n",
    "        \"I love this movie, it was amazing!\",\n",
    "        \"Absolutely terrible, waste of time.\",\n",
    "        \"The plot was fantastic and the acting was great\",\n",
    "        \"I hated it, the worst film ever\",\n",
    "        \"A masterpiece, brilliant work!\",\n",
    "        \"Not good, very boring.\"\n",
    "    ],\n",
    "    \"label\": [\"positive\", \"negative\", \"positive\", \"negative\", \"positive\", \"negative\"]\n",
    "}\n",
    "df = pd.DataFrame(data)"
   ]
  },
  {
   "cell_type": "code",
   "execution_count": null,
   "id": "31b51aa7",
   "metadata": {},
   "outputs": [],
   "source": []
  }
 ],
 "metadata": {
  "kernelspec": {
   "display_name": "Python 3",
   "language": "python",
   "name": "python3"
  },
  "language_info": {
   "codemirror_mode": {
    "name": "ipython",
    "version": 3
   },
   "file_extension": ".py",
   "mimetype": "text/x-python",
   "name": "python",
   "nbconvert_exporter": "python",
   "pygments_lexer": "ipython3",
   "version": "3.12.1"
  }
 },
 "nbformat": 4,
 "nbformat_minor": 5
}
